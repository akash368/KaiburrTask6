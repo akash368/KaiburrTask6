{
 "cells": [
  {
   "cell_type": "code",
   "execution_count": 1,
   "metadata": {},
   "outputs": [],
   "source": [
    "from sklearn.feature_extraction.text import TfidfVectorizer\n",
    "from sklearn.model_selection import train_test_split, cross_val_score\n",
    "from sklearn.preprocessing import LabelEncoder\n",
    "from sklearn.ensemble import RandomForestClassifier\n",
    "import pandas as pd"
   ]
  },
  {
   "cell_type": "code",
   "execution_count": 2,
   "metadata": {},
   "outputs": [
    {
     "name": "stderr",
     "output_type": "stream",
     "text": [
      "C:\\Users\\ASUS\\AppData\\Local\\Temp\\ipykernel_14428\\856359813.py:1: DtypeWarning: Columns (16) have mixed types. Specify dtype option on import or set low_memory=False.\n",
      "  data=pd.read_csv('complaints.csv')\n"
     ]
    },
    {
     "data": {
      "text/html": [
       "<div>\n",
       "<style scoped>\n",
       "    .dataframe tbody tr th:only-of-type {\n",
       "        vertical-align: middle;\n",
       "    }\n",
       "\n",
       "    .dataframe tbody tr th {\n",
       "        vertical-align: top;\n",
       "    }\n",
       "\n",
       "    .dataframe thead th {\n",
       "        text-align: right;\n",
       "    }\n",
       "</style>\n",
       "<table border=\"1\" class=\"dataframe\">\n",
       "  <thead>\n",
       "    <tr style=\"text-align: right;\">\n",
       "      <th></th>\n",
       "      <th>Date received</th>\n",
       "      <th>Product</th>\n",
       "      <th>Sub-product</th>\n",
       "      <th>Issue</th>\n",
       "      <th>Sub-issue</th>\n",
       "      <th>Consumer complaint narrative</th>\n",
       "      <th>Company public response</th>\n",
       "      <th>Company</th>\n",
       "      <th>State</th>\n",
       "      <th>ZIP code</th>\n",
       "      <th>Tags</th>\n",
       "      <th>Consumer consent provided?</th>\n",
       "      <th>Submitted via</th>\n",
       "      <th>Date sent to company</th>\n",
       "      <th>Company response to consumer</th>\n",
       "      <th>Timely response?</th>\n",
       "      <th>Consumer disputed?</th>\n",
       "      <th>Complaint ID</th>\n",
       "    </tr>\n",
       "  </thead>\n",
       "  <tbody>\n",
       "    <tr>\n",
       "      <th>0</th>\n",
       "      <td>2023-08-25</td>\n",
       "      <td>Credit reporting or other personal consumer re...</td>\n",
       "      <td>Credit reporting</td>\n",
       "      <td>Incorrect information on your report</td>\n",
       "      <td>Personal information incorrect</td>\n",
       "      <td>NaN</td>\n",
       "      <td>NaN</td>\n",
       "      <td>EQUIFAX, INC.</td>\n",
       "      <td>TX</td>\n",
       "      <td>77028</td>\n",
       "      <td>NaN</td>\n",
       "      <td>NaN</td>\n",
       "      <td>Web</td>\n",
       "      <td>2023-08-26</td>\n",
       "      <td>Closed with non-monetary relief</td>\n",
       "      <td>Yes</td>\n",
       "      <td>NaN</td>\n",
       "      <td>7563315</td>\n",
       "    </tr>\n",
       "    <tr>\n",
       "      <th>1</th>\n",
       "      <td>2023-08-25</td>\n",
       "      <td>Credit reporting or other personal consumer re...</td>\n",
       "      <td>Credit reporting</td>\n",
       "      <td>Improper use of your report</td>\n",
       "      <td>Credit inquiries on your report that you don't...</td>\n",
       "      <td>NaN</td>\n",
       "      <td>NaN</td>\n",
       "      <td>EQUIFAX, INC.</td>\n",
       "      <td>NY</td>\n",
       "      <td>12110</td>\n",
       "      <td>NaN</td>\n",
       "      <td>NaN</td>\n",
       "      <td>Web</td>\n",
       "      <td>2023-08-25</td>\n",
       "      <td>Closed with explanation</td>\n",
       "      <td>Yes</td>\n",
       "      <td>NaN</td>\n",
       "      <td>7563316</td>\n",
       "    </tr>\n",
       "    <tr>\n",
       "      <th>2</th>\n",
       "      <td>2023-08-25</td>\n",
       "      <td>Credit reporting or other personal consumer re...</td>\n",
       "      <td>Credit reporting</td>\n",
       "      <td>Incorrect information on your report</td>\n",
       "      <td>Information belongs to someone else</td>\n",
       "      <td>NaN</td>\n",
       "      <td>NaN</td>\n",
       "      <td>EQUIFAX, INC.</td>\n",
       "      <td>FL</td>\n",
       "      <td>32808</td>\n",
       "      <td>NaN</td>\n",
       "      <td>NaN</td>\n",
       "      <td>Web</td>\n",
       "      <td>2023-08-25</td>\n",
       "      <td>Closed with non-monetary relief</td>\n",
       "      <td>Yes</td>\n",
       "      <td>NaN</td>\n",
       "      <td>7563317</td>\n",
       "    </tr>\n",
       "    <tr>\n",
       "      <th>3</th>\n",
       "      <td>2023-08-24</td>\n",
       "      <td>Credit reporting, credit repair services, or o...</td>\n",
       "      <td>Credit reporting</td>\n",
       "      <td>Problem with a credit reporting company's inve...</td>\n",
       "      <td>Was not notified of investigation status or re...</td>\n",
       "      <td>NaN</td>\n",
       "      <td>NaN</td>\n",
       "      <td>Experian Information Solutions Inc.</td>\n",
       "      <td>NJ</td>\n",
       "      <td>07024</td>\n",
       "      <td>NaN</td>\n",
       "      <td>Other</td>\n",
       "      <td>Web</td>\n",
       "      <td>2023-08-24</td>\n",
       "      <td>In progress</td>\n",
       "      <td>Yes</td>\n",
       "      <td>NaN</td>\n",
       "      <td>7452639</td>\n",
       "    </tr>\n",
       "    <tr>\n",
       "      <th>4</th>\n",
       "      <td>2023-08-25</td>\n",
       "      <td>Credit reporting or other personal consumer re...</td>\n",
       "      <td>Credit reporting</td>\n",
       "      <td>Improper use of your report</td>\n",
       "      <td>Reporting company used your report improperly</td>\n",
       "      <td>NaN</td>\n",
       "      <td>NaN</td>\n",
       "      <td>SANTANDER HOLDINGS USA, INC.</td>\n",
       "      <td>FL</td>\n",
       "      <td>33972</td>\n",
       "      <td>NaN</td>\n",
       "      <td>NaN</td>\n",
       "      <td>Web</td>\n",
       "      <td>2023-08-25</td>\n",
       "      <td>Closed with explanation</td>\n",
       "      <td>Yes</td>\n",
       "      <td>NaN</td>\n",
       "      <td>7512160</td>\n",
       "    </tr>\n",
       "  </tbody>\n",
       "</table>\n",
       "</div>"
      ],
      "text/plain": [
       "  Date received                                            Product  \\\n",
       "0    2023-08-25  Credit reporting or other personal consumer re...   \n",
       "1    2023-08-25  Credit reporting or other personal consumer re...   \n",
       "2    2023-08-25  Credit reporting or other personal consumer re...   \n",
       "3    2023-08-24  Credit reporting, credit repair services, or o...   \n",
       "4    2023-08-25  Credit reporting or other personal consumer re...   \n",
       "\n",
       "        Sub-product                                              Issue  \\\n",
       "0  Credit reporting               Incorrect information on your report   \n",
       "1  Credit reporting                        Improper use of your report   \n",
       "2  Credit reporting               Incorrect information on your report   \n",
       "3  Credit reporting  Problem with a credit reporting company's inve...   \n",
       "4  Credit reporting                        Improper use of your report   \n",
       "\n",
       "                                           Sub-issue  \\\n",
       "0                     Personal information incorrect   \n",
       "1  Credit inquiries on your report that you don't...   \n",
       "2                Information belongs to someone else   \n",
       "3  Was not notified of investigation status or re...   \n",
       "4      Reporting company used your report improperly   \n",
       "\n",
       "  Consumer complaint narrative Company public response  \\\n",
       "0                          NaN                     NaN   \n",
       "1                          NaN                     NaN   \n",
       "2                          NaN                     NaN   \n",
       "3                          NaN                     NaN   \n",
       "4                          NaN                     NaN   \n",
       "\n",
       "                               Company State ZIP code Tags  \\\n",
       "0                        EQUIFAX, INC.    TX    77028  NaN   \n",
       "1                        EQUIFAX, INC.    NY    12110  NaN   \n",
       "2                        EQUIFAX, INC.    FL    32808  NaN   \n",
       "3  Experian Information Solutions Inc.    NJ    07024  NaN   \n",
       "4         SANTANDER HOLDINGS USA, INC.    FL    33972  NaN   \n",
       "\n",
       "  Consumer consent provided? Submitted via Date sent to company  \\\n",
       "0                        NaN           Web           2023-08-26   \n",
       "1                        NaN           Web           2023-08-25   \n",
       "2                        NaN           Web           2023-08-25   \n",
       "3                      Other           Web           2023-08-24   \n",
       "4                        NaN           Web           2023-08-25   \n",
       "\n",
       "      Company response to consumer Timely response? Consumer disputed?  \\\n",
       "0  Closed with non-monetary relief              Yes                NaN   \n",
       "1          Closed with explanation              Yes                NaN   \n",
       "2  Closed with non-monetary relief              Yes                NaN   \n",
       "3                      In progress              Yes                NaN   \n",
       "4          Closed with explanation              Yes                NaN   \n",
       "\n",
       "   Complaint ID  \n",
       "0       7563315  \n",
       "1       7563316  \n",
       "2       7563317  \n",
       "3       7452639  \n",
       "4       7512160  "
      ]
     },
     "execution_count": 2,
     "metadata": {},
     "output_type": "execute_result"
    }
   ],
   "source": [
    "data=pd.read_csv('complaints.csv')\n",
    "data.head()"
   ]
  },
  {
   "cell_type": "code",
   "execution_count": 3,
   "metadata": {},
   "outputs": [
    {
     "data": {
      "text/plain": [
       "(4082544, 18)"
      ]
     },
     "execution_count": 3,
     "metadata": {},
     "output_type": "execute_result"
    }
   ],
   "source": [
    "data.shape"
   ]
  },
  {
   "cell_type": "code",
   "execution_count": 4,
   "metadata": {},
   "outputs": [
    {
     "data": {
      "text/plain": [
       "21"
      ]
     },
     "execution_count": 4,
     "metadata": {},
     "output_type": "execute_result"
    }
   ],
   "source": [
    "data['Product'].nunique()"
   ]
  },
  {
   "cell_type": "code",
   "execution_count": 5,
   "metadata": {},
   "outputs": [
    {
     "name": "stdout",
     "output_type": "stream",
     "text": [
      "Shape of data (4082544, 2)\n"
     ]
    }
   ],
   "source": [
    "data2=data[['Consumer complaint narrative','Product']]\n",
    "print('Shape of data',data2.shape)"
   ]
  },
  {
   "cell_type": "code",
   "execution_count": 6,
   "metadata": {},
   "outputs": [
    {
     "name": "stderr",
     "output_type": "stream",
     "text": [
      "C:\\Users\\ASUS\\AppData\\Local\\Temp\\ipykernel_14428\\4089095996.py:1: SettingWithCopyWarning: \n",
      "A value is trying to be set on a copy of a slice from a DataFrame.\n",
      "Try using .loc[row_indexer,col_indexer] = value instead\n",
      "\n",
      "See the caveats in the documentation: https://pandas.pydata.org/pandas-docs/stable/user_guide/indexing.html#returning-a-view-versus-a-copy\n",
      "  data2.replace({'Product':\n"
     ]
    },
    {
     "name": "stdout",
     "output_type": "stream",
     "text": [
      "                                    u\n",
      "0  Credit reporting, repair, or other\n",
      "1                     Debt collection\n",
      "2                       Consumer Loan\n",
      "3                            Mortgage\n"
     ]
    }
   ],
   "source": [
    "data2.replace({'Product': \n",
    "             {'Credit reporting, credit repair services, or other personal consumer reports':'Credit reporting, repair, or other', \n",
    "              'Credit reporting':'Credit reporting, repair, or other',\n",
    "              'Credit reporting or other personal consumer reports':'Credit reporting, repair, or other',\n",
    "             'Payday loan': 'Payday loan, title loan, or personal loan',\n",
    "              'Credit card': 'Credit card or prepaid card',\n",
    "              'Prepaid card':'Credit card or prepaid card',\n",
    "              'Payday loan, title loan, personal loan, or advance loan':'Payday loan, title loan, or personal loan',\n",
    "             'Money transfers': 'Money transfer, virtual currency, or money service',\n",
    "             'Virtual currency': 'Money transfer, virtual currency, or money service'}}, \n",
    "            inplace= True)\n",
    "\n",
    "\n",
    "\n",
    "data2 = data2[(data2['Product'] == 'Credit reporting, repair, or other') | \\\n",
    "                             (data2['Product'] == 'Debt collection') | \\\n",
    "                             (data2['Product'] == 'Mortgage') | \\\n",
    "                             (data2['Product'] == 'Consumer Loan')\n",
    "                            ]\n",
    "\n",
    "unique_values = ['Credit reporting, repair, or other','Debt collection','Consumer Loan','Mortgage']\n",
    "unique_df = pd.DataFrame({'u': unique_values})\n",
    "print(unique_df)"
   ]
  },
  {
   "cell_type": "code",
   "execution_count": 7,
   "metadata": {},
   "outputs": [
    {
     "name": "stdout",
     "output_type": "stream",
     "text": [
      "Before dropping the nulls\n"
     ]
    },
    {
     "data": {
      "text/plain": [
       "'Null count'"
      ]
     },
     "metadata": {},
     "output_type": "display_data"
    },
    {
     "data": {
      "text/plain": [
       "Consumer complaint narrative    2139652\n",
       "Product                               0\n",
       "dtype: int64"
      ]
     },
     "metadata": {},
     "output_type": "display_data"
    },
    {
     "name": "stdout",
     "output_type": "stream",
     "text": [
      "Total rows of data 3286606\n",
      "================================================================================\n",
      "After dropping the nulls\n"
     ]
    },
    {
     "data": {
      "text/plain": [
       "'Null count'"
      ]
     },
     "metadata": {},
     "output_type": "display_data"
    },
    {
     "data": {
      "text/plain": [
       "Consumer complaint narrative    0\n",
       "Product                         0\n",
       "dtype: int64"
      ]
     },
     "metadata": {},
     "output_type": "display_data"
    },
    {
     "name": "stdout",
     "output_type": "stream",
     "text": [
      "Total rows of data 1146954\n"
     ]
    }
   ],
   "source": [
    "print('Before dropping the nulls')\n",
    "display('Null count', data2.isna().sum())\n",
    "print('Total rows of data', len(data2))\n",
    "data2.dropna(inplace=True)\n",
    "print('='*80)\n",
    "print('After dropping the nulls')\n",
    "display('Null count', data2.isna().sum())\n",
    "print('Total rows of data', len(data2))"
   ]
  },
  {
   "cell_type": "code",
   "execution_count": 8,
   "metadata": {},
   "outputs": [
    {
     "data": {
      "text/html": [
       "<div>\n",
       "<style scoped>\n",
       "    .dataframe tbody tr th:only-of-type {\n",
       "        vertical-align: middle;\n",
       "    }\n",
       "\n",
       "    .dataframe tbody tr th {\n",
       "        vertical-align: top;\n",
       "    }\n",
       "\n",
       "    .dataframe thead th {\n",
       "        text-align: right;\n",
       "    }\n",
       "</style>\n",
       "<table border=\"1\" class=\"dataframe\">\n",
       "  <thead>\n",
       "    <tr style=\"text-align: right;\">\n",
       "      <th></th>\n",
       "      <th>Consumer complaint narrative</th>\n",
       "      <th>Product</th>\n",
       "    </tr>\n",
       "  </thead>\n",
       "  <tbody>\n",
       "    <tr>\n",
       "      <th>3824838</th>\n",
       "      <td>In 2019 as I was looking for a way to tap my h...</td>\n",
       "      <td>Mortgage</td>\n",
       "    </tr>\n",
       "    <tr>\n",
       "      <th>3356473</th>\n",
       "      <td>Complaint against Experian Credit Bureau regar...</td>\n",
       "      <td>Credit reporting, repair, or other</td>\n",
       "    </tr>\n",
       "    <tr>\n",
       "      <th>3253964</th>\n",
       "      <td>my name is XXXX XXXX reached out to EXPERIAN/T...</td>\n",
       "      <td>Credit reporting, repair, or other</td>\n",
       "    </tr>\n",
       "    <tr>\n",
       "      <th>1893232</th>\n",
       "      <td>after get a letter informing me about my prope...</td>\n",
       "      <td>Mortgage</td>\n",
       "    </tr>\n",
       "    <tr>\n",
       "      <th>1131561</th>\n",
       "      <td>I have been trying to work with the Credit com...</td>\n",
       "      <td>Credit reporting, repair, or other</td>\n",
       "    </tr>\n",
       "  </tbody>\n",
       "</table>\n",
       "</div>"
      ],
      "text/plain": [
       "                              Consumer complaint narrative  \\\n",
       "3824838  In 2019 as I was looking for a way to tap my h...   \n",
       "3356473  Complaint against Experian Credit Bureau regar...   \n",
       "3253964  my name is XXXX XXXX reached out to EXPERIAN/T...   \n",
       "1893232  after get a letter informing me about my prope...   \n",
       "1131561  I have been trying to work with the Credit com...   \n",
       "\n",
       "                                    Product  \n",
       "3824838                            Mortgage  \n",
       "3356473  Credit reporting, repair, or other  \n",
       "3253964  Credit reporting, repair, or other  \n",
       "1893232                            Mortgage  \n",
       "1131561  Credit reporting, repair, or other  "
      ]
     },
     "metadata": {},
     "output_type": "display_data"
    },
    {
     "data": {
      "text/html": [
       "<div>\n",
       "<style scoped>\n",
       "    .dataframe tbody tr th:only-of-type {\n",
       "        vertical-align: middle;\n",
       "    }\n",
       "\n",
       "    .dataframe tbody tr th {\n",
       "        vertical-align: top;\n",
       "    }\n",
       "\n",
       "    .dataframe thead th {\n",
       "        text-align: right;\n",
       "    }\n",
       "</style>\n",
       "<table border=\"1\" class=\"dataframe\">\n",
       "  <thead>\n",
       "    <tr style=\"text-align: right;\">\n",
       "      <th></th>\n",
       "      <th>Consumer complaint narrative</th>\n",
       "      <th>Product</th>\n",
       "    </tr>\n",
       "  </thead>\n",
       "  <tbody>\n",
       "    <tr>\n",
       "      <th>3302821</th>\n",
       "      <td>I have submitted multiple disputes regarding t...</td>\n",
       "      <td>Credit reporting, repair, or other</td>\n",
       "    </tr>\n",
       "    <tr>\n",
       "      <th>1492757</th>\n",
       "      <td>Case XXXX XXXX University COLLECTIONS DEPARTME...</td>\n",
       "      <td>Credit reporting, repair, or other</td>\n",
       "    </tr>\n",
       "    <tr>\n",
       "      <th>1353904</th>\n",
       "      <td>My name is XXXX XXXX XXXX this complaint is no...</td>\n",
       "      <td>Credit reporting, repair, or other</td>\n",
       "    </tr>\n",
       "    <tr>\n",
       "      <th>1164536</th>\n",
       "      <td>I am a confused consumer because I filed a dis...</td>\n",
       "      <td>Credit reporting, repair, or other</td>\n",
       "    </tr>\n",
       "    <tr>\n",
       "      <th>2809525</th>\n",
       "      <td>I am writing to report that I have been a vict...</td>\n",
       "      <td>Credit reporting, repair, or other</td>\n",
       "    </tr>\n",
       "  </tbody>\n",
       "</table>\n",
       "</div>"
      ],
      "text/plain": [
       "                              Consumer complaint narrative  \\\n",
       "3302821  I have submitted multiple disputes regarding t...   \n",
       "1492757  Case XXXX XXXX University COLLECTIONS DEPARTME...   \n",
       "1353904  My name is XXXX XXXX XXXX this complaint is no...   \n",
       "1164536  I am a confused consumer because I filed a dis...   \n",
       "2809525  I am writing to report that I have been a vict...   \n",
       "\n",
       "                                    Product  \n",
       "3302821  Credit reporting, repair, or other  \n",
       "1492757  Credit reporting, repair, or other  \n",
       "1353904  Credit reporting, repair, or other  \n",
       "1164536  Credit reporting, repair, or other  \n",
       "2809525  Credit reporting, repair, or other  "
      ]
     },
     "metadata": {},
     "output_type": "display_data"
    }
   ],
   "source": [
    "data2=data2.sample(1500,random_state=1).copy()\n",
    "display(data2.head())\n",
    "display(data2.tail())"
   ]
  },
  {
   "cell_type": "code",
   "execution_count": 9,
   "metadata": {},
   "outputs": [
    {
     "data": {
      "text/plain": [
       "(1500, 2)"
      ]
     },
     "execution_count": 9,
     "metadata": {},
     "output_type": "execute_result"
    }
   ],
   "source": [
    "data2.shape"
   ]
  },
  {
   "cell_type": "code",
   "execution_count": 10,
   "metadata": {},
   "outputs": [
    {
     "data": {
      "text/plain": [
       "array(['Mortgage', 'Credit reporting, repair, or other',\n",
       "       'Debt collection', 'Consumer Loan'], dtype=object)"
      ]
     },
     "execution_count": 10,
     "metadata": {},
     "output_type": "execute_result"
    }
   ],
   "source": [
    "data2['Product'].unique()"
   ]
  },
  {
   "cell_type": "code",
   "execution_count": 11,
   "metadata": {},
   "outputs": [
    {
     "data": {
      "text/plain": [
       "Credit reporting, repair, or other    1042\n",
       "Debt collection                        296\n",
       "Mortgage                               147\n",
       "Consumer Loan                           15\n",
       "Name: Product, dtype: int64"
      ]
     },
     "execution_count": 11,
     "metadata": {},
     "output_type": "execute_result"
    }
   ],
   "source": [
    "data2['Product'].value_counts()"
   ]
  },
  {
   "cell_type": "code",
   "execution_count": 12,
   "metadata": {},
   "outputs": [
    {
     "name": "stdout",
     "output_type": "stream",
     "text": [
      "Training data: 1125\n",
      "Testing data: 375\n"
     ]
    }
   ],
   "source": [
    "X_train, X_test, y_train, y_test = train_test_split(\n",
    "                                            data2['Consumer complaint narrative'], data2['Product'],\n",
    "                                            test_size=0.25, random_state=0, stratify=data2['Product'])\n",
    "print(f'Training data: {len(X_train)}')\n",
    "print(f'Testing data: {len(X_test)}')\n"
   ]
  },
  {
   "cell_type": "code",
   "execution_count": 13,
   "metadata": {},
   "outputs": [
    {
     "data": {
      "text/plain": [
       "Credit reporting, repair, or other    782\n",
       "Debt collection                       222\n",
       "Mortgage                              110\n",
       "Consumer Loan                          11\n",
       "Name: Product, dtype: int64"
      ]
     },
     "metadata": {},
     "output_type": "display_data"
    }
   ],
   "source": [
    "display(y_train.value_counts())"
   ]
  },
  {
   "cell_type": "code",
   "execution_count": 14,
   "metadata": {},
   "outputs": [
    {
     "data": {
      "text/plain": [
       "My name is XXXX XXXX XXXX this complaint is not made in error neither is it being made by a third party.I declare under penalty of perjury I am alleging that a person or company- without my authorization- from unauthorized use of my social security number and card used my personal identifying information to apply for goods, services, or money ; and, was successful in creating some accounts. I have no knowledge of this and All is being investigated by the FTC.                                                                                                                                                                                                                                                                                                                                                                                                                                                                                                                                                                                                                                                                                                                                                                                                                                                                                                                                                                                                                                                                                                                                                                                                                                                                                                                                                                                                                                                                                                                                                                                                                                                                                                                                                                                                                                                                                                                                                                                                                                                                                                                                                                                                                                                                                                                                                                                                                                                                                                                                                                                                                                                                                                                                                                                                                                                                                                                                                                                                                                                                                                                                                                                                                                                                                                                                                                                                                                                                                                                                                                                                                                                                                                                                                                                                                                                                                                                                                                                                                                                                                                                                                                                                                                                                                                                                                                                                                                                                                                                                                                                                                                                                                                                                                                                                                                                                                                                                                                                                                                                                                                                                                                                                                                                                                                                                                                                                                                                                                                                                                                                                                                     4\n",
       "I am very concerned about the items that are being shown on my credit report. Not only are they inaccurate, they are also unjust, because they should not be reporting on my credit report! I ask that you delete these accounts, or I will be filing a legal complaint against you!                                                                                                                                                                                                                                                                                                                                                                                                                                                                                                                                                                                                                                                                                                                                                                                                                                                                                                                                                                                                                                                                                                                                                                                                                                                                                                                                                                                                                                                                                                                                                                                                                                                                                                                                                                                                                                                                                                                                                                                                                                                                                                                                                                                                                                                                                                                                                                                                                                                                                                                                                                                                                                                                                                                                                                                                                                                                                                                                                                                                                                                                                                                                                                                                                                                                                                                                                                                                                                                                                                                                                                                                                                                                                                                                                                                                                                                                                                                                                                                                                                                                                                                                                                                                                                                                                                                                                                                                                                                                                                                                                                                                                                                                                                                                                                                                                                                                                                                                                                                                                                                                                                                                                                                                                                                                                                                                                                                                                                                                                                                                                                                                                                                                                                                                                                                                                                3\n",
       "AFTER A CAREFUL REVIEW OF MY CREDIT REPORT, I HAVE IDENTIFIED INACCURATE ACCOUNTS THAT ARE DEROGATORIES AND DELINQUENTS THAT I HAVE NO KNOWLEDGE OF AND WERE NOT AUTHORIZED BY ME. PLEASE REMOVED THOSE INACCURATE ACCOUNTS THAT HAVE BEEN CAUSING DAMAGE TO MY CREDIT FILE. IT IS ILLEGAL TO HAVE SUCH ACCOUNTS REPORTING INACCURATELY ON ONES CREDIT, CONDUCT AN INVESTIGATION INTO THIS MATTER AND HAVE THE ACCOUNTS PURGED OFF MY CREDIT FILE.                                                                                                                                                                                                                                                                                                                                                                                                                                                                                                                                                                                                                                                                                                                                                                                                                                                                                                                                                                                                                                                                                                                                                                                                                                                                                                                                                                                                                                                                                                                                                                                                                                                                                                                                                                                                                                                                                                                                                                                                                                                                                                                                                                                                                                                                                                                                                                                                                                                                                                                                                                                                                                                                                                                                                                                                                                                                                                                                                                                                                                                                                                                                                                                                                                                                                                                                                                                                                                                                                                                                                                                                                                                                                                                                                                                                                                                                                                                                                                                                                                                                                                                                                                                                                                                                                                                                                                                                                                                                                                                                                                                                                                                                                                                                                                                                                                                                                                                                                                                                                                                                                                                                                                                                                                                                                                                                                                                                                                                                                                                                                                                                                                                                  3\n",
       "My credit reports are inaccurate. These inaccuracies are causing creditors to deny me credit. You have the duty to report accurate information about consumers. Please investigate these accounts and inquires and update these accounts accordingly to avoid future litigation.                                                                                                                                                                                                                                                                                                                                                                                                                                                                                                                                                                                                                                                                                                                                                                                                                                                                                                                                                                                                                                                                                                                                                                                                                                                                                                                                                                                                                                                                                                                                                                                                                                                                                                                                                                                                                                                                                                                                                                                                                                                                                                                                                                                                                                                                                                                                                                                                                                                                                                                                                                                                                                                                                                                                                                                                                                                                                                                                                                                                                                                                                                                                                                                                                                                                                                                                                                                                                                                                                                                                                                                                                                                                                                                                                                                                                                                                                                                                                                                                                                                                                                                                                                                                                                                                                                                                                                                                                                                                                                                                                                                                                                                                                                                                                                                                                                                                                                                                                                                                                                                                                                                                                                                                                                                                                                                                                                                                                                                                                                                                                                                                                                                                                                                                                                                                                                    2\n",
       "On ( XX/XX/2023 ) I sent a letter regarding inaccurate Late payments, inaccurate negative accounts, bankruptcies and unknown things on my credit report. To this day over 60 days later I have not received a response yet. feel like i'm being taken advantage of and being ignored of my disputes. Section 611 ( a ) it is plainly stated that failure to investigate these items within 30 days gives a reason to immediately remove those negative items from my credit report as well as correct my late payments as aid on time. It has been over 60 days so they should be corrected promptly. I demand the pese negative accounts be deleted & correct late payments as paid on time immediately or I will file for litigation due to the stress you caused me. My information was also impacted by the Equifax data breach and may have got into the hands of the wrong person.                                                                                                                                                                                                                                                                                                                                                                                                                                                                                                                                                                                                                                                                                                                                                                                                                                                                                                                                                                                                                                                                                                                                                                                                                                                                                                                                                                                                                                                                                                                                                                                                                                                                                                                                                                                                                                                                                                                                                                                                                                                                                                                                                                                                                                                                                                                                                                                                                                                                                                                                                                                                                                                                                                                                                                                                                                                                                                                                                                                                                                                                                                                                                                                                                                                                                                                                                                                                                                                                                                                                                                                                                                                                                                                                                                                                                                                                                                                                                                                                                                                                                                                                                                                                                                                                                                                                                                                                                                                                                                                                                                                                                                                                                                                                                                                                                                                                                                                                                                                                                                                                                                                                                                                                                            2\n",
       "                                                                                                                                                                                                                                                                                                                                                                                                                                                                                                                                                                                                                                                                                                                                                                                                                                                                                                                                                                                                                                                                                                                                                                                                                                                                                                                                                                                                                                                                                                                                                                                                                                                                                                                                                                                                                                                                                                                                                                                                                                                                                                                                                                                                                                                                                                                                                                                                                                                                                                                                                                                                                                                                                                                                                                                                                                                                                                                                                                                                                                                                                                                                                                                                                                                                                                                                                                                                                                                                                                                                                                                                                                                                                                                                                                                                                                                                                                                                                                                                                                                                                                                                                                                                                                                                                                                                                                                                                                                                                                                                                                                                                                                                                                                                                                                                                                                                                                                                                                                                                                                                                                                                                                                                                                                                                                                                                                                                                                                                                                                                                                                                                                                                                                                                                                                                                                                                                                                                                                                                                                                                                                                   ..\n",
       "this is the third attempt to correct my name and addresses and birth date see letter enclosed                                                                                                                                                                                                                                                                                                                                                                                                                                                                                                                                                                                                                                                                                                                                                                                                                                                                                                                                                                                                                                                                                                                                                                                                                                                                                                                                                                                                                                                                                                                                                                                                                                                                                                                                                                                                                                                                                                                                                                                                                                                                                                                                                                                                                                                                                                                                                                                                                                                                                                                                                                                                                                                                                                                                                                                                                                                                                                                                                                                                                                                                                                                                                                                                                                                                                                                                                                                                                                                                                                                                                                                                                                                                                                                                                                                                                                                                                                                                                                                                                                                                                                                                                                                                                                                                                                                                                                                                                                                                                                                                                                                                                                                                                                                                                                                                                                                                                                                                                                                                                                                                                                                                                                                                                                                                                                                                                                                                                                                                                                                                                                                                                                                                                                                                                                                                                                                                                                                                                                                                                       1\n",
       "I sent my documentation to TransUnion and they keep telling me that the information is verified but they have not provided proof by way of documentation to show that this my actual debt                                                                                                                                                                                                                                                                                                                                                                                                                                                                                                                                                                                                                                                                                                                                                                                                                                                                                                                                                                                                                                                                                                                                                                                                                                                                                                                                                                                                                                                                                                                                                                                                                                                                                                                                                                                                                                                                                                                                                                                                                                                                                                                                                                                                                                                                                                                                                                                                                                                                                                                                                                                                                                                                                                                                                                                                                                                                                                                                                                                                                                                                                                                                                                                                                                                                                                                                                                                                                                                                                                                                                                                                                                                                                                                                                                                                                                                                                                                                                                                                                                                                                                                                                                                                                                                                                                                                                                                                                                                                                                                                                                                                                                                                                                                                                                                                                                                                                                                                                                                                                                                                                                                                                                                                                                                                                                                                                                                                                                                                                                                                                                                                                                                                                                                                                                                                                                                                                                                           1\n",
       "Some one is making credit card applications with my information                                                                                                                                                                                                                                                                                                                                                                                                                                                                                                                                                                                                                                                                                                                                                                                                                                                                                                                                                                                                                                                                                                                                                                                                                                                                                                                                                                                                                                                                                                                                                                                                                                                                                                                                                                                                                                                                                                                                                                                                                                                                                                                                                                                                                                                                                                                                                                                                                                                                                                                                                                                                                                                                                                                                                                                                                                                                                                                                                                                                                                                                                                                                                                                                                                                                                                                                                                                                                                                                                                                                                                                                                                                                                                                                                                                                                                                                                                                                                                                                                                                                                                                                                                                                                                                                                                                                                                                                                                                                                                                                                                                                                                                                                                                                                                                                                                                                                                                                                                                                                                                                                                                                                                                                                                                                                                                                                                                                                                                                                                                                                                                                                                                                                                                                                                                                                                                                                                                                                                                                                                                     1\n",
       "Inactive modal Consumer Financial Protection BureauStart a new complaint All complaints XXXX Print complaint CLOSED Submitted STATUS Submitted to the CFPB on XX/XX/XXXX PRODUCT Mortgage ISSUE Struggling to pay mortgage We received your complaint. Thank you. \\nWe will review your complaint. Depending on what we find, we will typically : Send your complaint to help i need some help here : The person from wells Fargo is about XXXX XXXX XXXX. XXXX. How can she possibly know what dual tracking is when I was going through this she was in middle school. Dual tracking was happening. At that time to get a foreclosure case into the Florida court system took about 1-2 years. I called wells Fargo XX/XX/XXXX that I needed to apply for the hamp modification. My husband a dock worker at the XXXX of XXXX, XXXX ship building. He was laid off from his position along with 400 other people. The cleanup of the XXXX oil spill was completed and the XXXX XXXX dollar oil tanker they were to build was on hold. I had lost a job in XXXX  and received an in house '' modification from wells Fargo but it was actually more than the original mortgage. Was no help at all. But went into effect XX/XX/XXXX. I was in a forbearance in XXXX that was supposed to help me. But I was afraid to not pay. I paid my payments over the phone and was told the payments were going into a suspense account. I have not seen those payments show up anywhere it was like I paid that money and it disappeared but guess what. Around XXXX there was a XXXX oil spill lawsuit and lawyer had us pull all our bank statements from XXXX, XXXX & XXXX to prove income. So I have those payments posted on a grow XXXX XXXX XXXX bank statement. Yet wells Fargo states they have no record of my payments. And during the process of that modification in XXXX. I WAS NEVER TOLD I HAD TO BE 90 DAYS LATE! I was offered a forbearance in XXXX So I have proof those payments and proof wells Fargo is continuing to tell lies about my case why? After my husbands layoff XX/XX/XXXX I call wells Fargo and was TOLD I HAD TO BE 90 DAYS LATE IN ORDER TO APPLY FOR A HAMP MODIFICATION. I NEVER HEARD PRESIDENT OBAMA SAY THAT!!!! WE ALL KNOW AT XXXX THE PMI INSURNACE PAYS OFF THE MORTGAGE. XX/XX/XXXX XXXX sent all my documents XXXX XXXX to wells Fargo ( in my last modification I faxed everything and every 2 weeks I would call and I was told they didnt receive all my documents so the forbearance last well over 4 months adding XXXX to the modification yet as I said before the payments I made were never recorded anywhere ). I called wells Fargo with a XXXX counsellor XX/XX/XXXX and was told they have all my documents and the application was going to underwriting. About a week later. I get a call from underwriting and she said someone into her computer on her day off and moved my file out of review and she could not get it back in. she cried and I cried. I just so have an email form the underwriter of the 1st modification stating the same thing to me. ( But she was able to get it back in review ) so the XX/XX/XXXX I receive another application form wells Fargo in a XXXX XXXX  mailer. It came with a return XXXX XXXX  mailer. I sent the application. I called 2 weeks later I was told they didnt receive it. I called XXXX XXXX and spoke to XXXX XXXX the supervisor of the delivery person and was told the persons name and sent a copy of the signature. I called wells Fargo back and told them I investigated the situation and that someone signed for my package and gave them the name and then all of the sudden they received it not all my documents like back in XXXX with the faxes. I then received another application for a modification again by XXXX XXXX due XX/XX/XXXX I sent it XX/XX/XXXX. I then start getting letters from foreclosure layers. My case had been referred for foreclosure. Wow I was trying to apply for a hamp modification and they referred me to foreclosure and then they have the audacity to send me all the applications they sent me while the foreclosure proceedings were going on. And XXXX XXXXXXXX has the audacity and knowledge to tell me that I should have paid the modification the foreclosure proceedings would have stopped? I think wells Fargo didnt count on the internet taking off as it did and that XXXX became a thing in XXXX. We found out the documents were being shredded. Whistle blowers were telling us this. And people were paying the trial modifications that XXXX XXXX sent me and guess what they were paying them and guess what they paid for 12 months to XXXX yrs. and foreclosure proceedings were never stopped and people were losing their homes even though they were paying. Seems to me a big money grab by wells Fargo. And I was told if I would have paid foreclosure proceedings would have stoppe Hello just received a response from XXXX XXXX XXXX XXXX XXXX She said that the investigation is ongoing on the phone Yet in the response she said based on our research we determined my account was handled appropriately???? What???? I lost my home!!!! I hash just put XXXX down and paid off XXXX in outstanding car payments. To buy my house in XXXX You going to tell me that I am going to \" on my own '' devices stop paying my mortgage???????? Really who would jeopardize XXXX. Their entire nest egg I was told not to pay for 90 days to apply for a hamp modification. I was foreclosed while I was applying and my application kept getting moved or lost. How can you actually say this to me. I was dual tracked. You are not going to anything about this Because it's against the law. \\nThis is rediculous that no one at wells fargo will owe to Up to what happened and send me compensation. Well one day someone will read my complaint and actually do the investigation and compensate my for the horror show we endured from XXXX to XXXX. No one should have to go through what we went through.    1\n",
       "I am a victim of identity theft and I have submitted a notarized affidavit which serves as a legal document to my identity theft. I am also a victim of the XXXX  breach and opted out of the settlement because I have suffered extreme losses due to the breach and the identity theft. I need the fraud accounts that are in my letter that is attached removed permanently from my file as I have also contacted the creditors as well. This is extreme in violation of my fair credit reporting act rights and I will seek legal recourse. I have also attached the printout of me being affected by the XXXX  breach as well.                                                                                                                                                                                                                                                                                                                                                                                                                                                                                                                                                                                                                                                                                                                                                                                                                                                                                                                                                                                                                                                                                                                                                                                                                                                                                                                                                                                                                                                                                                                                                                                                                                                                                                                                                                                                                                                                                                                                                                                                                                                                                                                                                                                                                                                                                                                                                                                                                                                                                                                                                                                                                                                                                                                                                                                                                                                                                                                                                                                                                                                                                                                                                                                                                                                                                                                                                                                                                                                                                                                                                                                                                                                                                                                                                                                                                                                                                                                                                                                                                                                                                                                                                                                                                                                                                                                                                                                                                                                                                                                                                                                                                                                                                                                                                                                                                                                                                                                                                                                                                                                                                                                                                                                                                                                                                                                                                                                                                                                                                 1\n",
       "Name: Consumer complaint narrative, Length: 1108, dtype: int64"
      ]
     },
     "metadata": {},
     "output_type": "display_data"
    }
   ],
   "source": [
    "display(X_train.value_counts())"
   ]
  },
  {
   "cell_type": "code",
   "execution_count": 15,
   "metadata": {},
   "outputs": [
    {
     "data": {
      "text/plain": [
       "Credit reporting, repair, or other    260\n",
       "Debt collection                        74\n",
       "Mortgage                               37\n",
       "Consumer Loan                           4\n",
       "Name: Product, dtype: int64"
      ]
     },
     "metadata": {},
     "output_type": "display_data"
    }
   ],
   "source": [
    "display(y_test.value_counts())"
   ]
  },
  {
   "cell_type": "code",
   "execution_count": 16,
   "metadata": {},
   "outputs": [
    {
     "data": {
      "text/plain": [
       "I have tried to send my disputes to the major credit bureaus but are having difficulties in submitting my disputes and getting the inaccurate information corrected on my credit report.                                                                                                                                                                                                                                                                                                                                                                                                                                                                                                                                                                                                                                                                                                                                                                                                                                                                                                                                                                                                                                                                                                                                                                                                                                                                                                                                                                                                                                                                                                                                                                                                          3\n",
       "I am a victim of identity theft/fraud. I have notified the collection agencies/original creditors several times that the accounts do not belong to me. I have not in any way received goods or services from these companies and I have provided my police reports, my FTC id theft affidavit signed and notarized along with my sworn statement regarding the fraudulent accounts. Documents have been submitted to all credit bureaus.                                                                                                                                                                                                                                                                                                                                                                                                                                                                                                                                                                                                                                                                                                                                                                                                                                                                                                                                                                                                                                                                                                                                                                                                                                                                                                                                                          2\n",
       "I have a medical bill from XXXX XXXX XXXX from XX/XX/16. They never sent the bill to my medical insurance provider, XXXX XXXX XXXX, which they are legally obligated to per their contractual agreement. Since they are in-network they are required to submit the claim but they never did and instead sent me to a debt collector to try and get me to pay the full bill which I am not legally obliged to pay.                                                                                                                                                                                                                                                                                                                                                                                                                                                                                                                                                                                                                                                                                                                                                                                                                                                                                                                                                                                                                                                                                                                                                                                                                                                                                                                                                                                 1\n",
       "XXXX, XXXX and TransUnion are reporting 15 derogatory accounts and 14 inquiries on my credit report with no Creditor listed. I am unable to send out a validation request because I am unaware who is reporting these accounts or if these accounts even belong to me. I have sent 3rd dispute letters to XXXX, XXXX and TransUnion since XX/XX/2020 asking them to investigate these accounts and I have not yet received a written response or see any updates on my credit report.                                                                                                                                                                                                                                                                                                                                                                                                                                                                                                                                                                                                                                                                                                                                                                                                                                                                                                                                                                                                                                                                                                                                                                                                                                                                                                             1\n",
       "To Experian XXXX XXXX : I am contesting the information on my credit report that I believe is not correct. In accordance with the FCRA Section 611 ( 15 U.S.C. 1681 ( l ) and in accordance with the accepted STANDARD of metro 2 data field reporting. The information has not been proven to be true, correct, or verified. I can't recognize any allegations of wrongdoing without any factual proof. I challenge the reportability of any such claims. According to the federal and state laws that apply to me, you are required to report information accurately and completely. You should not keep or report anything that you know is not in compliance with the law or regulations. I am writing to let you know that you need to make sure everything in my credit report is accurate. This includes making sure that you adhere to all FCRA and METRO 2 format reporting standards. For every account that youre reporting, I need evidence ( physically verifiable ) that you verified the information to be accurate and compliant. For every inquiry I request proof that you confirmed that the creditor had a permissible purpose. I am giving you a month to investigate this matter and determine whether it is still accurate, valid and in compliance. If you can not provide proof that the information is accurate, compliant or valid I demand that you remove it from the report. I would also like for you to mail me physical proof of the actions you have taken to correct my credit report and a new updated report. This will help me stay updated on the progress you are making. The following items on my report appear questionable! Please certify that all claims are true and accurate, complete and timely reported. If not, please delete immediately.    1\n",
       "                                                                                                                                                                                                                                                                                                                                                                                                                                                                                                                                                                                                                                                                                                                                                                                                                                                                                                                                                                                                                                                                                                                                                                                                                                                                                                                                                                                                                                                                                                                                                                                                                                                                                                                                                                                                 ..\n",
       "As a result of the recent negligent behavior of Equifax, I was negatively affected by The error that caused borrowers to be wrongfully denied loans or pay higher rates. As a result, fraudulent items are being furnished on my consumer report.                                                                                                                                                                                                                                                                                                                                                                                                                                                                                                                                                                                                                                                                                                                                                                                                                                                                                                                                                                                                                                                                                                                                                                                                                                                                                                                                                                                                                                                                                                                                                 1\n",
       "I am writing to you in regards to account that is coming up on my credit report. I have absolutely no knowledge of this account and have sent letters requesting validation of this account but no avail! If they can not validate it, how can you report it? Its identity theft so why I still have this unknown item in my credit report? Only two bureaus reporting this account.                                                                                                                                                                                                                                                                                                                                                                                                                                                                                                                                                                                                                                                                                                                                                                                                                                                                                                                                                                                                                                                                                                                                                                                                                                                                                                                                                                                                              1\n",
       "I fell behind on payments due to health. I secured $ XXXX from Florida 's Hardest Hit fund to pay Ditech/Greentree. Ditech/Greentree misapplied these payments I can prove through just looking at my credit report. I applied for a mortgage modification. Ditech would say they did not receive my paperwork and would have to resend. They kept saying they did not receive. I was working with Florida 's Hardest Hit and we called once again and they said I was denied for no reason. I have no debt and a steady income. They sold the house to themselves at auction for $ XXXX I've been here for 17 years making payments. Despite making payments for all of XXXX and some of XXXX and providing them an addt $ XXXX for principle my balance kept going up. I don't believe they ever intended to provide me a modification and just mishandled everything so they could foreclose on me and steal the house to flip and make more profit.                                                                                                                                                                                                                                                                                                                                                                                                                                                                                                                                                                                                                                                                                                                                                                                                                                           1\n",
       "This company calls me 2 to 3 times a day everyday and it is in the hours that I am at work so I can not answer my phone and this has been going on for about a month-and-a-half. I did end up calling this phone number back and found out that it was Diversified Consultants Inc. The lady that I spoke with and right now I can't remember her name, but she stated that she was a debt collection agency for XXXX. We ensued in a conversation and she said that I had to take care of this debt. we started to work on a way to get this debt settled however she said that they could not except the payment arrangements that I said I could do. I told her that was the only Arrangement that I could make and she said that I was being non-compliant and that she would notate the account. And then she hung up. I looked up their company name and found a bunch of complaints against them saying that they were scam artists, so I brought up my credit report to see if they were truly the ones named on my credit report for that debt and found out it was under another name. So I am going to contact the actual company on my credit report to get this debt taken care of, but people should know about this other company.                                                                                                                                                                                                                                                                                                                                                                                                                                                                                                                                                 1\n",
       "After my loan was refinanced and assigned to Specialized loan Servicing in XX/XX/2001, it came to my attention in XX/XX/2001 that a tax payment wasnt received to my town. \\n\\nAfter 2 years, many calls which left the matter unresolved, I had to pay XXXX XXXX XXXX the taxes and lawyer fees because the town hired them to get the money. \\n\\nI have backup documentation. I have the dates a times and who I spoke with at Specialized Loan Servicing. I am usually hung up in when I call, or am told all systems are down and I will receive a call back. \\n\\nI want to get my account reconciled, and my money returned to me                                                                                                                                                                                                                                                                                                                                                                                                                                                                                                                                                                                                                                                                                                                                                                                                                                                                                                                                                                                                                                                                                                                                                            1\n",
       "Name: Consumer complaint narrative, Length: 372, dtype: int64"
      ]
     },
     "metadata": {},
     "output_type": "display_data"
    }
   ],
   "source": [
    "display(X_test.value_counts())"
   ]
  },
  {
   "cell_type": "code",
   "execution_count": 17,
   "metadata": {},
   "outputs": [
    {
     "data": {
      "text/plain": [
       "(<1125x6536 sparse matrix of type '<class 'numpy.float64'>'\n",
       " \twith 57218 stored elements in Compressed Sparse Row format>,\n",
       " <375x6536 sparse matrix of type '<class 'numpy.float64'>'\n",
       " \twith 16139 stored elements in Compressed Sparse Row format>)"
      ]
     },
     "execution_count": 17,
     "metadata": {},
     "output_type": "execute_result"
    }
   ],
   "source": [
    "vectorizer = TfidfVectorizer(stop_words= 'english')\n",
    "# convert the documents into a matrix\n",
    "X_train_vec = vectorizer.fit_transform(X_train)\n",
    "X_test_vec  = vectorizer.transform(X_test)\n",
    "X_train_vec, X_test_vec"
   ]
  },
  {
   "cell_type": "code",
   "execution_count": 18,
   "metadata": {},
   "outputs": [
    {
     "name": "stdout",
     "output_type": "stream",
     "text": [
      "(1125, 100) (375, 100)\n"
     ]
    },
    {
     "data": {
      "text/html": [
       "<div>\n",
       "<style scoped>\n",
       "    .dataframe tbody tr th:only-of-type {\n",
       "        vertical-align: middle;\n",
       "    }\n",
       "\n",
       "    .dataframe tbody tr th {\n",
       "        vertical-align: top;\n",
       "    }\n",
       "\n",
       "    .dataframe thead th {\n",
       "        text-align: right;\n",
       "    }\n",
       "</style>\n",
       "<table border=\"1\" class=\"dataframe\">\n",
       "  <thead>\n",
       "    <tr style=\"text-align: right;\">\n",
       "      <th></th>\n",
       "      <th>0</th>\n",
       "      <th>1</th>\n",
       "      <th>2</th>\n",
       "      <th>3</th>\n",
       "      <th>4</th>\n",
       "      <th>5</th>\n",
       "      <th>6</th>\n",
       "      <th>7</th>\n",
       "      <th>8</th>\n",
       "      <th>9</th>\n",
       "      <th>...</th>\n",
       "      <th>90</th>\n",
       "      <th>91</th>\n",
       "      <th>92</th>\n",
       "      <th>93</th>\n",
       "      <th>94</th>\n",
       "      <th>95</th>\n",
       "      <th>96</th>\n",
       "      <th>97</th>\n",
       "      <th>98</th>\n",
       "      <th>99</th>\n",
       "    </tr>\n",
       "  </thead>\n",
       "  <tbody>\n",
       "    <tr>\n",
       "      <th>0</th>\n",
       "      <td>0.0</td>\n",
       "      <td>0.0</td>\n",
       "      <td>0.0</td>\n",
       "      <td>0.0</td>\n",
       "      <td>0.0</td>\n",
       "      <td>0.0</td>\n",
       "      <td>0.0</td>\n",
       "      <td>0.0</td>\n",
       "      <td>0.0</td>\n",
       "      <td>0.0</td>\n",
       "      <td>...</td>\n",
       "      <td>0.000000</td>\n",
       "      <td>0.0</td>\n",
       "      <td>0.0</td>\n",
       "      <td>0.000000</td>\n",
       "      <td>0.0</td>\n",
       "      <td>0.0</td>\n",
       "      <td>0.0</td>\n",
       "      <td>0.0</td>\n",
       "      <td>0.0</td>\n",
       "      <td>0.0</td>\n",
       "    </tr>\n",
       "    <tr>\n",
       "      <th>1</th>\n",
       "      <td>0.0</td>\n",
       "      <td>0.0</td>\n",
       "      <td>0.0</td>\n",
       "      <td>0.0</td>\n",
       "      <td>0.0</td>\n",
       "      <td>0.0</td>\n",
       "      <td>0.0</td>\n",
       "      <td>0.0</td>\n",
       "      <td>0.0</td>\n",
       "      <td>0.0</td>\n",
       "      <td>...</td>\n",
       "      <td>0.000000</td>\n",
       "      <td>0.0</td>\n",
       "      <td>0.0</td>\n",
       "      <td>0.000000</td>\n",
       "      <td>0.0</td>\n",
       "      <td>0.0</td>\n",
       "      <td>0.0</td>\n",
       "      <td>0.0</td>\n",
       "      <td>0.0</td>\n",
       "      <td>0.0</td>\n",
       "    </tr>\n",
       "    <tr>\n",
       "      <th>2</th>\n",
       "      <td>0.0</td>\n",
       "      <td>0.0</td>\n",
       "      <td>0.0</td>\n",
       "      <td>0.0</td>\n",
       "      <td>0.0</td>\n",
       "      <td>0.0</td>\n",
       "      <td>0.0</td>\n",
       "      <td>0.0</td>\n",
       "      <td>0.0</td>\n",
       "      <td>0.0</td>\n",
       "      <td>...</td>\n",
       "      <td>0.000000</td>\n",
       "      <td>0.0</td>\n",
       "      <td>0.0</td>\n",
       "      <td>0.000000</td>\n",
       "      <td>0.0</td>\n",
       "      <td>0.0</td>\n",
       "      <td>0.0</td>\n",
       "      <td>0.0</td>\n",
       "      <td>0.0</td>\n",
       "      <td>0.0</td>\n",
       "    </tr>\n",
       "    <tr>\n",
       "      <th>3</th>\n",
       "      <td>0.0</td>\n",
       "      <td>0.0</td>\n",
       "      <td>0.0</td>\n",
       "      <td>0.0</td>\n",
       "      <td>0.0</td>\n",
       "      <td>0.0</td>\n",
       "      <td>0.0</td>\n",
       "      <td>0.0</td>\n",
       "      <td>0.0</td>\n",
       "      <td>0.0</td>\n",
       "      <td>...</td>\n",
       "      <td>0.000000</td>\n",
       "      <td>0.0</td>\n",
       "      <td>0.0</td>\n",
       "      <td>0.000000</td>\n",
       "      <td>0.0</td>\n",
       "      <td>0.0</td>\n",
       "      <td>0.0</td>\n",
       "      <td>0.0</td>\n",
       "      <td>0.0</td>\n",
       "      <td>0.0</td>\n",
       "    </tr>\n",
       "    <tr>\n",
       "      <th>4</th>\n",
       "      <td>0.0</td>\n",
       "      <td>0.0</td>\n",
       "      <td>0.0</td>\n",
       "      <td>0.0</td>\n",
       "      <td>0.0</td>\n",
       "      <td>0.0</td>\n",
       "      <td>0.0</td>\n",
       "      <td>0.0</td>\n",
       "      <td>0.0</td>\n",
       "      <td>0.0</td>\n",
       "      <td>...</td>\n",
       "      <td>0.000000</td>\n",
       "      <td>0.0</td>\n",
       "      <td>0.0</td>\n",
       "      <td>0.112746</td>\n",
       "      <td>0.0</td>\n",
       "      <td>0.0</td>\n",
       "      <td>0.0</td>\n",
       "      <td>0.0</td>\n",
       "      <td>0.0</td>\n",
       "      <td>0.0</td>\n",
       "    </tr>\n",
       "    <tr>\n",
       "      <th>...</th>\n",
       "      <td>...</td>\n",
       "      <td>...</td>\n",
       "      <td>...</td>\n",
       "      <td>...</td>\n",
       "      <td>...</td>\n",
       "      <td>...</td>\n",
       "      <td>...</td>\n",
       "      <td>...</td>\n",
       "      <td>...</td>\n",
       "      <td>...</td>\n",
       "      <td>...</td>\n",
       "      <td>...</td>\n",
       "      <td>...</td>\n",
       "      <td>...</td>\n",
       "      <td>...</td>\n",
       "      <td>...</td>\n",
       "      <td>...</td>\n",
       "      <td>...</td>\n",
       "      <td>...</td>\n",
       "      <td>...</td>\n",
       "      <td>...</td>\n",
       "    </tr>\n",
       "    <tr>\n",
       "      <th>1120</th>\n",
       "      <td>0.0</td>\n",
       "      <td>0.0</td>\n",
       "      <td>0.0</td>\n",
       "      <td>0.0</td>\n",
       "      <td>0.0</td>\n",
       "      <td>0.0</td>\n",
       "      <td>0.0</td>\n",
       "      <td>0.0</td>\n",
       "      <td>0.0</td>\n",
       "      <td>0.0</td>\n",
       "      <td>...</td>\n",
       "      <td>0.000000</td>\n",
       "      <td>0.0</td>\n",
       "      <td>0.0</td>\n",
       "      <td>0.031287</td>\n",
       "      <td>0.0</td>\n",
       "      <td>0.0</td>\n",
       "      <td>0.0</td>\n",
       "      <td>0.0</td>\n",
       "      <td>0.0</td>\n",
       "      <td>0.0</td>\n",
       "    </tr>\n",
       "    <tr>\n",
       "      <th>1121</th>\n",
       "      <td>0.0</td>\n",
       "      <td>0.0</td>\n",
       "      <td>0.0</td>\n",
       "      <td>0.0</td>\n",
       "      <td>0.0</td>\n",
       "      <td>0.0</td>\n",
       "      <td>0.0</td>\n",
       "      <td>0.0</td>\n",
       "      <td>0.0</td>\n",
       "      <td>0.0</td>\n",
       "      <td>...</td>\n",
       "      <td>0.000000</td>\n",
       "      <td>0.0</td>\n",
       "      <td>0.0</td>\n",
       "      <td>0.000000</td>\n",
       "      <td>0.0</td>\n",
       "      <td>0.0</td>\n",
       "      <td>0.0</td>\n",
       "      <td>0.0</td>\n",
       "      <td>0.0</td>\n",
       "      <td>0.0</td>\n",
       "    </tr>\n",
       "    <tr>\n",
       "      <th>1122</th>\n",
       "      <td>0.0</td>\n",
       "      <td>0.0</td>\n",
       "      <td>0.0</td>\n",
       "      <td>0.0</td>\n",
       "      <td>0.0</td>\n",
       "      <td>0.0</td>\n",
       "      <td>0.0</td>\n",
       "      <td>0.0</td>\n",
       "      <td>0.0</td>\n",
       "      <td>0.0</td>\n",
       "      <td>...</td>\n",
       "      <td>0.097445</td>\n",
       "      <td>0.0</td>\n",
       "      <td>0.0</td>\n",
       "      <td>0.000000</td>\n",
       "      <td>0.0</td>\n",
       "      <td>0.0</td>\n",
       "      <td>0.0</td>\n",
       "      <td>0.0</td>\n",
       "      <td>0.0</td>\n",
       "      <td>0.0</td>\n",
       "    </tr>\n",
       "    <tr>\n",
       "      <th>1123</th>\n",
       "      <td>0.0</td>\n",
       "      <td>0.0</td>\n",
       "      <td>0.0</td>\n",
       "      <td>0.0</td>\n",
       "      <td>0.0</td>\n",
       "      <td>0.0</td>\n",
       "      <td>0.0</td>\n",
       "      <td>0.0</td>\n",
       "      <td>0.0</td>\n",
       "      <td>0.0</td>\n",
       "      <td>...</td>\n",
       "      <td>0.000000</td>\n",
       "      <td>0.0</td>\n",
       "      <td>0.0</td>\n",
       "      <td>0.000000</td>\n",
       "      <td>0.0</td>\n",
       "      <td>0.0</td>\n",
       "      <td>0.0</td>\n",
       "      <td>0.0</td>\n",
       "      <td>0.0</td>\n",
       "      <td>0.0</td>\n",
       "    </tr>\n",
       "    <tr>\n",
       "      <th>1124</th>\n",
       "      <td>0.0</td>\n",
       "      <td>0.0</td>\n",
       "      <td>0.0</td>\n",
       "      <td>0.0</td>\n",
       "      <td>0.0</td>\n",
       "      <td>0.0</td>\n",
       "      <td>0.0</td>\n",
       "      <td>0.0</td>\n",
       "      <td>0.0</td>\n",
       "      <td>0.0</td>\n",
       "      <td>...</td>\n",
       "      <td>0.000000</td>\n",
       "      <td>0.0</td>\n",
       "      <td>0.0</td>\n",
       "      <td>0.000000</td>\n",
       "      <td>0.0</td>\n",
       "      <td>0.0</td>\n",
       "      <td>0.0</td>\n",
       "      <td>0.0</td>\n",
       "      <td>0.0</td>\n",
       "      <td>0.0</td>\n",
       "    </tr>\n",
       "  </tbody>\n",
       "</table>\n",
       "<p>1125 rows × 100 columns</p>\n",
       "</div>"
      ],
      "text/plain": [
       "       0    1    2    3    4    5    6    7    8    9   ...        90   91  \\\n",
       "0     0.0  0.0  0.0  0.0  0.0  0.0  0.0  0.0  0.0  0.0  ...  0.000000  0.0   \n",
       "1     0.0  0.0  0.0  0.0  0.0  0.0  0.0  0.0  0.0  0.0  ...  0.000000  0.0   \n",
       "2     0.0  0.0  0.0  0.0  0.0  0.0  0.0  0.0  0.0  0.0  ...  0.000000  0.0   \n",
       "3     0.0  0.0  0.0  0.0  0.0  0.0  0.0  0.0  0.0  0.0  ...  0.000000  0.0   \n",
       "4     0.0  0.0  0.0  0.0  0.0  0.0  0.0  0.0  0.0  0.0  ...  0.000000  0.0   \n",
       "...   ...  ...  ...  ...  ...  ...  ...  ...  ...  ...  ...       ...  ...   \n",
       "1120  0.0  0.0  0.0  0.0  0.0  0.0  0.0  0.0  0.0  0.0  ...  0.000000  0.0   \n",
       "1121  0.0  0.0  0.0  0.0  0.0  0.0  0.0  0.0  0.0  0.0  ...  0.000000  0.0   \n",
       "1122  0.0  0.0  0.0  0.0  0.0  0.0  0.0  0.0  0.0  0.0  ...  0.097445  0.0   \n",
       "1123  0.0  0.0  0.0  0.0  0.0  0.0  0.0  0.0  0.0  0.0  ...  0.000000  0.0   \n",
       "1124  0.0  0.0  0.0  0.0  0.0  0.0  0.0  0.0  0.0  0.0  ...  0.000000  0.0   \n",
       "\n",
       "       92        93   94   95   96   97   98   99  \n",
       "0     0.0  0.000000  0.0  0.0  0.0  0.0  0.0  0.0  \n",
       "1     0.0  0.000000  0.0  0.0  0.0  0.0  0.0  0.0  \n",
       "2     0.0  0.000000  0.0  0.0  0.0  0.0  0.0  0.0  \n",
       "3     0.0  0.000000  0.0  0.0  0.0  0.0  0.0  0.0  \n",
       "4     0.0  0.112746  0.0  0.0  0.0  0.0  0.0  0.0  \n",
       "...   ...       ...  ...  ...  ...  ...  ...  ...  \n",
       "1120  0.0  0.031287  0.0  0.0  0.0  0.0  0.0  0.0  \n",
       "1121  0.0  0.000000  0.0  0.0  0.0  0.0  0.0  0.0  \n",
       "1122  0.0  0.000000  0.0  0.0  0.0  0.0  0.0  0.0  \n",
       "1123  0.0  0.000000  0.0  0.0  0.0  0.0  0.0  0.0  \n",
       "1124  0.0  0.000000  0.0  0.0  0.0  0.0  0.0  0.0  \n",
       "\n",
       "[1125 rows x 100 columns]"
      ]
     },
     "execution_count": 18,
     "metadata": {},
     "output_type": "execute_result"
    }
   ],
   "source": [
    "from sklearn.feature_selection import SelectKBest, chi2\n",
    "\n",
    "n_features=100\n",
    "\n",
    "ch2 = SelectKBest(chi2, k=n_features)\n",
    "X_train_sp = ch2.fit_transform(X_train_vec, y_train)\n",
    "X_test_sp  = ch2.transform(X_test_vec)\n",
    "\n",
    "X_train_sp, X_test_sp\n",
    "\n",
    "# Converting the sparse matrix to a dense one to visualize it.\n",
    "\n",
    "cols = list(range(n_features))\n",
    "\n",
    "X_train_dense = pd.DataFrame(data=X_train_sp.toarray(), columns=cols)\n",
    "X_test_dense  = pd.DataFrame(data=X_test_sp.toarray(), columns=cols)\n",
    "print(X_train_dense.shape, X_test_dense.shape)\n",
    "X_train_dense"
   ]
  },
  {
   "cell_type": "code",
   "execution_count": 19,
   "metadata": {},
   "outputs": [
    {
     "data": {
      "text/plain": [
       "{'Consumer Loan': 0,\n",
       " 'Credit reporting, repair, or other': 1,\n",
       " 'Debt collection': 2,\n",
       " 'Mortgage': 3}"
      ]
     },
     "execution_count": 19,
     "metadata": {},
     "output_type": "execute_result"
    }
   ],
   "source": [
    "# Now we have train and test data as vectors\n",
    "# Let us also convert the target data appropriately\n",
    "\n",
    "\n",
    "encoder = LabelEncoder()\n",
    "y_train_num  = encoder.fit_transform(y_train)\n",
    "y_test_num   = encoder.transform(y_test)\n",
    "y_train_num.min(), y_train_num.max(), y_test_num.min(), y_test_num.max() # sanity check\n",
    "mapping = {l: i for i, l in enumerate(encoder.classes_)}\n",
    "mapping"
   ]
  },
  {
   "cell_type": "code",
   "execution_count": 20,
   "metadata": {},
   "outputs": [
    {
     "name": "stdout",
     "output_type": "stream",
     "text": [
      "Mean Accuracy: 0.7946666666666667\n"
     ]
    }
   ],
   "source": [
    "from sklearn.svm import SVC\n",
    "from sklearn.model_selection import cross_val_score\n",
    "import numpy as np\n",
    "\n",
    "# Create a Linear SVM classifier\n",
    "svm_model = SVC(kernel='linear', C=1.0, random_state=42)\n",
    "\n",
    "# Perform cross-validation\n",
    "scores = cross_val_score(svm_model, X_train_dense, y_train_num, cv=5, n_jobs=-1, scoring='accuracy')\n",
    "\n",
    "# Calculate the mean accuracy\n",
    "mean_accuracy = np.mean(scores)\n",
    "\n",
    "# Print the mean accuracy\n",
    "print(\"Mean Accuracy:\", mean_accuracy)"
   ]
  },
  {
   "cell_type": "code",
   "execution_count": 21,
   "metadata": {},
   "outputs": [
    {
     "name": "stdout",
     "output_type": "stream",
     "text": [
      "Accuracy on test set: 0.7946666666666666\n"
     ]
    }
   ],
   "source": [
    "from sklearn.metrics import accuracy_score\n",
    "svm_model = SVC(kernel='linear', C=1.0, random_state=42)\n",
    "\n",
    "# Fit the SVM model to the training data\n",
    "svm_model.fit(X_train_dense, y_train_num)\n",
    "preds = svm_model.predict(X_test_dense)\n",
    "accuracy = accuracy_score(y_test_num, preds)\n",
    "print(\"Accuracy on test set:\", accuracy)"
   ]
  },
  {
   "cell_type": "code",
   "execution_count": 22,
   "metadata": {},
   "outputs": [
    {
     "data": {
      "text/plain": [
       "1"
      ]
     },
     "execution_count": 22,
     "metadata": {},
     "output_type": "execute_result"
    }
   ],
   "source": [
    "preds[0]"
   ]
  },
  {
   "cell_type": "code",
   "execution_count": 23,
   "metadata": {},
   "outputs": [
    {
     "data": {
      "text/plain": [
       "'Credit reporting, repair, or other'"
      ]
     },
     "execution_count": 23,
     "metadata": {},
     "output_type": "execute_result"
    }
   ],
   "source": [
    "preds=encoder.inverse_transform(preds)\n",
    "preds[0]"
   ]
  },
  {
   "cell_type": "code",
   "execution_count": 24,
   "metadata": {},
   "outputs": [
    {
     "name": "stdout",
     "output_type": "stream",
     "text": [
      "Mean Accuracy: 0.8355555555555556\n"
     ]
    }
   ],
   "source": [
    "rf_model  = RandomForestClassifier(n_estimators=200, random_state=42, n_jobs = -1)\n",
    "scores1 = cross_val_score(rf_model,\n",
    "                         X_train_dense,\n",
    "                         y_train_num,\n",
    "                         cv=5,\n",
    "                         n_jobs = -1,\n",
    "                         scoring = 'accuracy')\n",
    "scores1.mean()\n",
    "# Calculate the mean accuracy\n",
    "mean_accuracy2 = np.mean(scores1)\n",
    "\n",
    "# Print the mean accuracy\n",
    "print(\"Mean Accuracy:\", mean_accuracy2)"
   ]
  },
  {
   "cell_type": "code",
   "execution_count": 25,
   "metadata": {},
   "outputs": [
    {
     "name": "stdout",
     "output_type": "stream",
     "text": [
      "Accuracy on test set: 0.8293333333333334\n"
     ]
    }
   ],
   "source": [
    "rf_model.fit(X_train_dense, y_train_num)\n",
    "preds1=rf_model.predict(X_test_dense)\n",
    "accuracy2 = accuracy_score(y_test_num, preds1)\n",
    "print(\"Accuracy on test set:\", accuracy2)"
   ]
  },
  {
   "cell_type": "code",
   "execution_count": 26,
   "metadata": {},
   "outputs": [
    {
     "data": {
      "text/plain": [
       "2"
      ]
     },
     "execution_count": 26,
     "metadata": {},
     "output_type": "execute_result"
    }
   ],
   "source": [
    "preds1[0]"
   ]
  },
  {
   "cell_type": "code",
   "execution_count": 27,
   "metadata": {},
   "outputs": [
    {
     "data": {
      "text/plain": [
       "'Debt collection'"
      ]
     },
     "execution_count": 27,
     "metadata": {},
     "output_type": "execute_result"
    }
   ],
   "source": [
    "preds1=encoder.inverse_transform(preds1)\n",
    "preds1[0]"
   ]
  },
  {
   "cell_type": "markdown",
   "metadata": {},
   "source": [
    "#LinearSVM"
   ]
  },
  {
   "cell_type": "code",
   "execution_count": 28,
   "metadata": {},
   "outputs": [
    {
     "data": {
      "image/png": "[encoded data removed]",
      "text/plain": [
       "<Figure size 640x480 with 1 Axes>"
      ]
     },
     "metadata": {},
     "output_type": "display_data"
    }
   ],
   "source": [
    "import matplotlib.pyplot as plt\n",
    "import seaborn as sns\n",
    "plt.hist(y_test, bins=10, alpha=0.5, label='Actual Price')\n",
    "plt.hist(preds, bins=10, alpha=0.5, label='Predicted Price')\n",
    "plt.xlabel('complain')\n",
    "plt.ylabel('Frequency')\n",
    "plt.title('Distribution of Actual Price and Predicted Price')\n",
    "plt.legend()\n",
    "plt.show()"
   ]
  },
  {
   "cell_type": "markdown",
   "metadata": {},
   "source": [
    "#Random forest"
   ]
  },
  {
   "cell_type": "code",
   "execution_count": 29,
   "metadata": {},
   "outputs": [
    {
     "data": {
      "image/png": "[encoded data removed]",
      "text/plain": [
       "<Figure size 640x480 with 1 Axes>"
      ]
     },
     "metadata": {},
     "output_type": "display_data"
    }
   ],
   "source": [
    "import matplotlib.pyplot as plt\n",
    "import seaborn as sns\n",
    "plt.hist(y_test, bins=10, alpha=0.5, label='Actual Price')\n",
    "plt.hist(preds1, bins=10, alpha=0.5, label='Predicted Price')\n",
    "plt.xlabel('complain')\n",
    "plt.ylabel('Frequency')\n",
    "plt.title('Distribution of Actual Price and Predicted Price')\n",
    "plt.legend()\n",
    "plt.show()"
   ]
  },
  {
   "cell_type": "markdown",
   "metadata": {},
   "source": [
    "#So from above we can say Random forest gives the best"
   ]
  },
  {
   "cell_type": "code",
   "execution_count": 30,
   "metadata": {},
   "outputs": [
    {
     "data": {
      "text/html": [
       "<div>\n",
       "<style scoped>\n",
       "    .dataframe tbody tr th:only-of-type {\n",
       "        vertical-align: middle;\n",
       "    }\n",
       "\n",
       "    .dataframe tbody tr th {\n",
       "        vertical-align: top;\n",
       "    }\n",
       "\n",
       "    .dataframe thead th {\n",
       "        text-align: right;\n",
       "    }\n",
       "</style>\n",
       "<table border=\"1\" class=\"dataframe\">\n",
       "  <thead>\n",
       "    <tr style=\"text-align: right;\">\n",
       "      <th></th>\n",
       "      <th>Complaint</th>\n",
       "      <th>Actual Product</th>\n",
       "      <th>Prediction</th>\n",
       "      <th>Correct</th>\n",
       "    </tr>\n",
       "  </thead>\n",
       "  <tbody>\n",
       "    <tr>\n",
       "      <th>361620</th>\n",
       "      <td>I have a medical bill from XXXX XXXX XXXX from...</td>\n",
       "      <td>Debt collection</td>\n",
       "      <td>Debt collection</td>\n",
       "      <td>1</td>\n",
       "    </tr>\n",
       "    <tr>\n",
       "      <th>1016794</th>\n",
       "      <td>Someone got care credit in my name and also go...</td>\n",
       "      <td>Credit reporting, repair, or other</td>\n",
       "      <td>Credit reporting, repair, or other</td>\n",
       "      <td>1</td>\n",
       "    </tr>\n",
       "    <tr>\n",
       "      <th>1024905</th>\n",
       "      <td>In accordance with the Fair Credit Reporting e...</td>\n",
       "      <td>Credit reporting, repair, or other</td>\n",
       "      <td>Credit reporting, repair, or other</td>\n",
       "      <td>1</td>\n",
       "    </tr>\n",
       "    <tr>\n",
       "      <th>2158031</th>\n",
       "      <td>fraudulent accounts were listed on my consumer...</td>\n",
       "      <td>Credit reporting, repair, or other</td>\n",
       "      <td>Credit reporting, repair, or other</td>\n",
       "      <td>1</td>\n",
       "    </tr>\n",
       "    <tr>\n",
       "      <th>2780311</th>\n",
       "      <td>This is my third request that I have been a vi...</td>\n",
       "      <td>Credit reporting, repair, or other</td>\n",
       "      <td>Credit reporting, repair, or other</td>\n",
       "      <td>1</td>\n",
       "    </tr>\n",
       "    <tr>\n",
       "      <th>...</th>\n",
       "      <td>...</td>\n",
       "      <td>...</td>\n",
       "      <td>...</td>\n",
       "      <td>...</td>\n",
       "    </tr>\n",
       "    <tr>\n",
       "      <th>2500982</th>\n",
       "      <td>XXXX XXXX XXXX XXXX XXXX, XXXX XXXX And COMMON...</td>\n",
       "      <td>Debt collection</td>\n",
       "      <td>Debt collection</td>\n",
       "      <td>1</td>\n",
       "    </tr>\n",
       "    <tr>\n",
       "      <th>55673</th>\n",
       "      <td>I want this late payment deleted from my accou...</td>\n",
       "      <td>Credit reporting, repair, or other</td>\n",
       "      <td>Credit reporting, repair, or other</td>\n",
       "      <td>1</td>\n",
       "    </tr>\n",
       "    <tr>\n",
       "      <th>3712463</th>\n",
       "      <td>I received a letter in the mail regarding a co...</td>\n",
       "      <td>Debt collection</td>\n",
       "      <td>Debt collection</td>\n",
       "      <td>1</td>\n",
       "    </tr>\n",
       "    <tr>\n",
       "      <th>801044</th>\n",
       "      <td>I have rights under 15 usc 1681. \\nEquifax is ...</td>\n",
       "      <td>Credit reporting, repair, or other</td>\n",
       "      <td>Credit reporting, repair, or other</td>\n",
       "      <td>1</td>\n",
       "    </tr>\n",
       "    <tr>\n",
       "      <th>3184285</th>\n",
       "      <td>After my loan was refinanced and assigned to S...</td>\n",
       "      <td>Mortgage</td>\n",
       "      <td>Mortgage</td>\n",
       "      <td>1</td>\n",
       "    </tr>\n",
       "  </tbody>\n",
       "</table>\n",
       "<p>375 rows × 4 columns</p>\n",
       "</div>"
      ],
      "text/plain": [
       "                                                 Complaint  \\\n",
       "361620   I have a medical bill from XXXX XXXX XXXX from...   \n",
       "1016794  Someone got care credit in my name and also go...   \n",
       "1024905  In accordance with the Fair Credit Reporting e...   \n",
       "2158031  fraudulent accounts were listed on my consumer...   \n",
       "2780311  This is my third request that I have been a vi...   \n",
       "...                                                    ...   \n",
       "2500982  XXXX XXXX XXXX XXXX XXXX, XXXX XXXX And COMMON...   \n",
       "55673    I want this late payment deleted from my accou...   \n",
       "3712463  I received a letter in the mail regarding a co...   \n",
       "801044   I have rights under 15 usc 1681. \\nEquifax is ...   \n",
       "3184285  After my loan was refinanced and assigned to S...   \n",
       "\n",
       "                             Actual Product  \\\n",
       "361620                      Debt collection   \n",
       "1016794  Credit reporting, repair, or other   \n",
       "1024905  Credit reporting, repair, or other   \n",
       "2158031  Credit reporting, repair, or other   \n",
       "2780311  Credit reporting, repair, or other   \n",
       "...                                     ...   \n",
       "2500982                     Debt collection   \n",
       "55673    Credit reporting, repair, or other   \n",
       "3712463                     Debt collection   \n",
       "801044   Credit reporting, repair, or other   \n",
       "3184285                            Mortgage   \n",
       "\n",
       "                                 Prediction  Correct  \n",
       "361620                      Debt collection        1  \n",
       "1016794  Credit reporting, repair, or other        1  \n",
       "1024905  Credit reporting, repair, or other        1  \n",
       "2158031  Credit reporting, repair, or other        1  \n",
       "2780311  Credit reporting, repair, or other        1  \n",
       "...                                     ...      ...  \n",
       "2500982                     Debt collection        1  \n",
       "55673    Credit reporting, repair, or other        1  \n",
       "3712463                     Debt collection        1  \n",
       "801044   Credit reporting, repair, or other        1  \n",
       "3184285                            Mortgage        1  \n",
       "\n",
       "[375 rows x 4 columns]"
      ]
     },
     "metadata": {},
     "output_type": "display_data"
    },
    {
     "name": "stdout",
     "output_type": "stream",
     "text": [
      "Accuracy: 82.93333333333334 %\n"
     ]
    }
   ],
   "source": [
    "report = pd.DataFrame(columns=['Complaint','Actual Product','Prediction'])\n",
    "report['Complaint']      = X_test\n",
    "report['Actual Product'] = y_test\n",
    "report['Prediction']     = preds1\n",
    "report['Correct'] = (report['Actual Product'] == report['Prediction']).astype('int')\n",
    "display(report)\n",
    "print(f'Accuracy: {100*report.Correct.sum()/report.Correct.count()} %')"
   ]
  },
  {
   "cell_type": "code",
   "execution_count": null,
   "metadata": {},
   "outputs": [],
   "source": []
  },
  {
   "cell_type": "code",
   "execution_count": 31,
   "metadata": {},
   "outputs": [],
   "source": [
    "from sklearn.metrics import confusion_matrix\n",
    "def plot_confusion_matrix(cm,labels,size=10, rotate_labels=False):\n",
    "    '''\n",
    "    This function receives a confusion matrix object and plots it out using seaborn\n",
    "    '''\n",
    "    \n",
    "    font_specs = {\"size\": 20, 'fontweight':'bold'}\n",
    "    title_specs= {\"size\": 16, 'fontweight':'bold'}\n",
    "    figsize = size\n",
    "    fig, ax = plt.subplots(figsize = (figsize,figsize), facecolor = '#ebebeb', frameon = True, edgecolor = 'black')\n",
    "    ax = sns.heatmap(cm,annot=True, cbar = False, cmap = 'Greens',linewidths=5,\n",
    "                  linecolor='#ebebeb', annot_kws=font_specs, fmt='g')\n",
    "    plt.xlabel('Predicted', fontdict = font_specs, labelpad=-(figsize*65))\n",
    "    plt.ylabel('Actual', fontdict = font_specs, labelpad=15)\n",
    "    ax.xaxis.set_ticklabels(labels)\n",
    "    ax.yaxis.set_ticklabels(labels)\n",
    "    if rotate_labels:\n",
    "        ax.set_xticklabels(labels, rotation=90, ha='center')\n",
    "        ax.set_yticklabels(labels, rotation=0, ha='right')\n",
    "\n",
    "    ax.tick_params(labelbottom=False, labeltop=True, labelsize = 12, colors ='#151736' )\n",
    "    plt.title('CONFUSION MATRIX',loc = 'right', pad = figsize*4 , fontdict = title_specs)\n",
    "    plt.show()"
   ]
  },
  {
   "cell_type": "code",
   "execution_count": 32,
   "metadata": {},
   "outputs": [
    {
     "data": {
      "image/png": "[encoded data removed]",
      "text/plain": [
       "<Figure size 1200x1200 with 1 Axes>"
      ]
     },
     "metadata": {},
     "output_type": "display_data"
    }
   ],
   "source": [
    "cm = confusion_matrix(y_test, preds1, labels=encoder.classes_)\n",
    "plot_confusion_matrix(cm=cm,labels=encoder.classes_, size=12, rotate_labels=True)"
   ]
  },
  {
   "cell_type": "code",
   "execution_count": null,
   "metadata": {},
   "outputs": [],
   "source": []
  },
  {
   "cell_type": "code",
   "execution_count": null,
   "metadata": {},
   "outputs": [],
   "source": []
  },
  {
   "cell_type": "code",
   "execution_count": null,
   "metadata": {},
   "outputs": [],
   "source": []
  },
  {
   "cell_type": "code",
   "execution_count": null,
   "metadata": {},
   "outputs": [],
   "source": []
  },
  {
   "cell_type": "code",
   "execution_count": null,
   "metadata": {},
   "outputs": [],
   "source": []
  },
  {
   "cell_type": "code",
   "execution_count": null,
   "metadata": {},
   "outputs": [],
   "source": []
  },
  {
   "cell_type": "code",
   "execution_count": null,
   "metadata": {},
   "outputs": [],
   "source": []
  }
 ],
 "metadata": {
  "kernelspec": {
   "display_name": "Python 3 (ipykernel)",
   "language": "python",
   "name": "python3"
  },
  "language_info": {
   "codemirror_mode": {
    "name": "ipython",
    "version": 3
   },
   "file_extension": ".py",
   "mimetype": "text/x-python",
   "name": "python",
   "nbconvert_exporter": "python",
   "pygments_lexer": "ipython3",
   "version": "3.11.4"
  }
 },
 "nbformat": 4,
 "nbformat_minor": 2
}
